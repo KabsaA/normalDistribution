{
 "cells": [
  {
   "cell_type": "code",
   "execution_count": 15,
   "metadata": {},
   "outputs": [
    {
     "name": "stdout",
     "output_type": "stream",
     "text": [
      "Z is 4.333333333333333\n",
      "0% are taller\n"
     ]
    }
   ],
   "source": [
    "def z(avg, standard_dev, height):\n",
    "    z = (height - standard_dev) / avg\n",
    "    print(\"Z is \" + str(z))\n",
    "    if z > 3 or z < -3 :\n",
    "        print(\"0% are taller\")\n",
    "    elif (z <= 1 and z <= 2) or (z >= -2 and z<= -1) :\n",
    "        print(\"13.59% are taller\")\n",
    "    elif z >= -1 and z <= 1:\n",
    "        print(\"34.13% are taller\")\n",
    "    else:\n",
    "        print(\"0% are taller\")\n",
    "z(3,70,83)\n",
    "\n"
   ]
  },
  {
   "cell_type": "code",
   "execution_count": 17,
   "metadata": {},
   "outputs": [
    {
     "name": "stdout",
     "output_type": "stream",
     "text": [
      "Z is -2.0\n"
     ]
    }
   ],
   "source": [
    "def zScore(avg, standard_dev, height):\n",
    "    z = (height - standard_dev) / avg\n",
    "    print(\"Z is \" + str(z))\n",
    "zScore(10,150,130)"
   ]
  },
  {
   "cell_type": "code",
   "execution_count": 22,
   "metadata": {},
   "outputs": [
    {
     "name": "stdout",
     "output_type": "stream",
     "text": [
      "Z is -2.5\n"
     ]
    }
   ],
   "source": [
    "zScore(10,150,125)"
   ]
  },
  {
   "cell_type": "code",
   "execution_count": 81,
   "metadata": {},
   "outputs": [
    {
     "name": "stdout",
     "output_type": "stream",
     "text": [
      "Z is 0.5\n"
     ]
    }
   ],
   "source": [
    "zScore(10,150,155)"
   ]
  },
  {
   "cell_type": "code",
   "execution_count": 84,
   "metadata": {},
   "outputs": [
    {
     "name": "stdout",
     "output_type": "stream",
     "text": [
      "170.6\n"
     ]
    }
   ],
   "source": [
    "print(150 + (2.06 * 10))"
   ]
  },
  {
   "cell_type": "code",
   "execution_count": 65,
   "metadata": {},
   "outputs": [],
   "source": [
    "#BMI for males age 20 to 74 is follows approximately a normal distribution with mean \n",
    "#µ = 27.9 and standard deviation σ = 7.8. Use the 68-95-99.7'''"
   ]
  },
  {
   "cell_type": "code",
   "execution_count": 64,
   "metadata": {},
   "outputs": [
    {
     "name": "stdout",
     "output_type": "stream",
     "text": [
      "16.0%\n"
     ]
    }
   ],
   "source": [
    "a = (100 - 68)/2\n",
    "print(str(a)+ \"%\")\n"
   ]
  },
  {
   "cell_type": "code",
   "execution_count": 80,
   "metadata": {},
   "outputs": [
    {
     "name": "stdout",
     "output_type": "stream",
     "text": [
      "-1.9999999999999998\n"
     ]
    }
   ],
   "source": [
    "avg = 27.9\n",
    "standard_dev = 7.8\n",
    "print((12.3 - )/standard_dev)"
   ]
  },
  {
   "cell_type": "code",
   "execution_count": 86,
   "metadata": {},
   "outputs": [
    {
     "name": "stdout",
     "output_type": "stream",
     "text": [
      "4.5\n",
      "51.3\n"
     ]
    }
   ],
   "source": [
    "print(avg - (standard_dev * 3))\n",
    "print(avg + (standard_dev * 3))"
   ]
  },
  {
   "cell_type": "code",
   "execution_count": null,
   "metadata": {},
   "outputs": [],
   "source": []
  },
  {
   "cell_type": "code",
   "execution_count": null,
   "metadata": {},
   "outputs": [],
   "source": []
  }
 ],
 "metadata": {
  "kernelspec": {
   "display_name": "Python 3",
   "language": "python",
   "name": "python3"
  },
  "language_info": {
   "codemirror_mode": {
    "name": "ipython",
    "version": 3
   },
   "file_extension": ".py",
   "mimetype": "text/x-python",
   "name": "python",
   "nbconvert_exporter": "python",
   "pygments_lexer": "ipython3",
   "version": "3.7.6"
  }
 },
 "nbformat": 4,
 "nbformat_minor": 4
}
